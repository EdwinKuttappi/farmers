{
 "cells": [
  {
   "attachments": {},
   "cell_type": "markdown",
   "metadata": {},
   "source": [
    "# Grades\n",
    "- comments: true\n",
    "- toc: true"
   ]
  },
  {
   "attachments": {},
   "cell_type": "markdown",
   "metadata": {},
   "source": [
    "## Key\n",
    "|Question|Answer|\n",
    "|---|---|\n",
    "|1|N/A|\n",
    "|2|N/A|\n",
    "|3|C|\n",
    "|4|B|\n",
    "|5|C|\n",
    "|6|A|\n",
    "|7|A|\n",
    "|8|N/A|\n",
    "|9|B|\n",
    "|Extra|.05 for anything; .1 for good|\n",
    "|Notes/Extra not in the box|.05 for anything; .1 for good; don't go above 1.0/1.0|\n",
    "## Grades\n",
    "| Red                    | 0.0, 0.30-0.69 |             |                                                                                                                    | 0-1 (#1, 2, and 8 not graded)                                                                                   |\n",
    "| ---------------------- | -------------- | ----------- | ------------------------------------------------------------------------------------------------------------------ | --------------------------------------------------------------------------------------------------------------- |\n",
    "| Blue                   | 0.70-0.89      |             |                                                                                                                    | 2-3                                                                                                             |\n",
    "| Green                  | 0.90-1.00      |             |                                                                                                                    | 4-6                                                                                                             |\n",
    "| Advay Shindikar        | 0.9/1          | Colin       | [Link](https://advays16.github.io/CSP-/2022/12/15/unit3section16.html)                                             | 5/6; did extra                                                                                                  |\n",
    "| Ahmad Jamili           | 0.95/1         | Raunak      | [Link](https://qaisj1.github.io/quissite/jupyter/2022/12/14/Lesson15-16.html)                                      | 5/6; Completed all the hacks and did extra credit                                                               |\n",
    "| Amitha Sanka           | 0.9/1          | Edwin       | [Link](https://amitha-sanka.github.io/repository_1/2022/12/13/16hacks.html)                                        | 4/6; Great Job on the multiple choice questions, and you made a good theoretical problem for the simulations    |\n",
    "| Arnav Kanekar          | 1/1            | Edwin       | [Link](https://muffinman1287.github.io/FirstFastPage/csp/2022/12/13/s16.html)                                      | 5/6; Really liked your simulation that was added at the end, as well as making it in an effcient way            |\n",
    "| Benjamin Lee           | 0/1            | Edwin       | Link                                                                                                               | 0/6; No Submission                                                                                              |\n",
    "| Caleb Navarro          | 0/1            | Raunak      | Link                                                                                                               | 0/6; No Submission                                                                                              |\n",
    "| Elijah Gilmour         | 0.88/1         | Edwin       | [Link](https://eligilmour.github.io/Eli-1/fastpages/markdown/2022/12/15/16hw.html)                                 | 5/6; You did a good job on the Multiple Choice showing that you have profcient understanding on this topic      |\n",
    "| Ellie Pang             | 1/1            | Edwin       | [Link](https://1908901.github.io/elliepang/2022/12/15/hacks-16.html)                                               | 5/6; Quiz performance was good and the simulations made were impressive, nice use of previous content           |\n",
    "| Emma Shen              | 1/1            | Colin       | [Link](https://e-shen2022.github.io/emma_blog/2022/12/15/unit3section16.html)                                      | 6/6; did extra                                                                                                  |\n",
    "| Hae Ryn Yu             | 1/1            | Colin       | [Link](https://haeryny.github.io/haehae/week5/notes/2022/12/13/3.16-Hacks-and-Notes.html)                          | 6/6; did extra                                                                                                  |\n",
    "| Ishi Singh             | 0.9/1          | Colin       | [Link](https://random-ign.github.io/Fastpages/jupyter/2022/12/13/unit3-section16.html)                             | 6/6; No extra                                                                                                   |\n",
    "| James Hunter           | 0.85/1         | Colin+Edwin | [Link](https://jameshunter12.github.io/james-fastpage/2022/12/13/blog.Sections-16.html)                            | 3/6; Some extra                                                                                                 |\n",
    "| Joselyn Anda           | 0.9/1          | Edwin       | [Link](https://jesa06.github.io/andafp/2022/12/13/Lesson316.html)                                                  | 4/6; Showed thorough understanding of this topic and planned out a nice simulation                              |\n",
    "| Justin Nguyen          | 0.88/1         | Edwin+Colin | [Link](https://jyustin.github.io/test-fastpages/3.16/2022/12/13/16sims.html)                                       | 5/6; No extra                                                                                                   |\n",
    "| Kaylee Hou             | 1/1            | Edwin       | [Link](https://kayleehou.github.io/myproject/student%20teaching/2022/12/13/unit16hacks.html)                       | 5/6;                                                                                                            |\n",
    "| Khalid Farah           | 0.9/1          | Raunak      | [Link](https://khalidfarahhh.github.io/project-1/fastpages/markdown/2022/12/15/group17hacks.html)                  |                                                                                                                 |\n",
    "| Krishiv Mahendru       | 0.95/1         | Edwin+Colin | [Link](https://krishiv111.github.io/liverpoolkm/markdown/2022/12/15/hacks16.html)                                  | 6/6; Notes                                                                                                      |\n",
    "| Leonard Wright         | 0/1            | Colin       | Link                                                                                                               | No Submission                                                                                                   |\n",
    "| Lina Awad              | 0.95/1         | Edwin       | [Link](https://github.com/jesa06/WiSTEM/blob/master/_notebooks/2022-12-13-316notehack.ipynb)                       | 4/6; Showed excellent profiency in this lesson and made a great simulation                                      |\n",
    "| Luke Riggins           | 0/1            | Edwin       | Link                                                                                                               | No Submission                                                                                                   |\n",
    "| Naja Fonseca           | 0.88/1         | Edwin       | [Link](https://najaafonseca.github.io/yeaaa/2022/12/13/Simulations16.html)                                         | 4/6; Took good notes on the assignment as well as finished the multiple choice                                  |\n",
    "| Navan Yatavelli        | 1/1            | Raunak      | [Link](https://navanyatavelli.github.io/fastpages/unit%203%20section%2016%20hacks/2022/12/14/Unit3Sec16Hacks.html) | 5/6; Completed all the hacks and did extra credit                                                               |\n",
    "| Nicolas Mosqueda       | 0.95/1         | Colin       | [Link](https://nicolasmosqueda.github.io/APCSP/week%2015/2022/12/14/Section-16.html)                               | 5/6; Did extra credit and notes                                                                                 |\n",
    "| Rohin Sood             | 0.9/1         | Colin       | [Link](https://rohinsood.github.io/csp/2022/12/13/section-16.html)                                                 | 3/6; Did a lot of extra credit                                                                                  |\n",
    "| Ryan McWeeny           | 0.8/1          | Edwin+Colin | [Link](https://ryanrob327.github.io/csp/week16/2022/12/13/lesson-16.html)                                          | 2/6; Some extra credit                                                                                          |\n",
    "| Samarth Kalanke        | 1/1            | Raunak      | [Link](https://samarthkalanke.github.io/SamarthKalanke/2022/12/15/Hacks16.html)                                    | 4/6; Completed all the hacks and had a successful simulation                                                    |\n",
    "| Sanika Shahapurkar     | 0/1            | Colin       | Link                                                                                                               | No Submission                                                                                                   |\n",
    "| Shaurya Goel           | 0.9/1          | Raunak      | [Link](https://stg-7.github.io/FastPagesSTG/2022/12/12/Section16HACKS.html)                                        | 4/6; Completed all the hacks and did extra credit                                                               |\n",
    "| Theodore Huntalas      | 1/1            | Edwin       | [Link](https://theoh32.github.io/theo-repo/2022/12/12/Section-16.html)                                             | 6/6; Seemed very engaged with this assignment, received a good score on the quiz, and put very impressive hacks |\n",
    "| Trenton Cardall        | 0.90/1         | Edwin       | [Link](https://github.com/trentcardall/cuddly-succotash/blob/master/_posts/2022-12-13-3.16.md)                     | 4/6; All hacks were completed and showed some level of mastery with the notes                                   |\n",
    "| Varaprasad Nibhanupudi | 1/1            | Raunak      | [Link](https://nvarap.github.io/blog/Hacks/skimul)                                                                 | 6/6; Completed all the hacks and did extra credit                                                               |\n",
    "| Vardaan Sinha          | 0.95/1         | Raunak      | [Link](https://vardaansinha.github.io/FastPages/2022/12/15/hacks.html)                                             | 6/6; Completed all the hacks and did some extra credit                                                          |"
   ]
  }
 ],
 "metadata": {
  "kernelspec": {
   "display_name": "Python 3",
   "language": "python",
   "name": "python3"
  },
  "language_info": {
   "name": "python",
   "version": "3.10.6 (main, Aug 11 2022, 13:36:31) [Clang 13.1.6 (clang-1316.0.21.2.5)]"
  },
  "orig_nbformat": 4,
  "vscode": {
   "interpreter": {
    "hash": "b0fa6594d8f4cbf19f97940f81e996739fb7646882a419484c72d19e05852a7e"
   }
  }
 },
 "nbformat": 4,
 "nbformat_minor": 2
}
