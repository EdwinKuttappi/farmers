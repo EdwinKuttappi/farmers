{
 "cells": [
  {
   "attachments": {},
   "cell_type": "markdown",
   "metadata": {},
   "source": [
    "# Grades!"
   ]
  },
  {
   "attachments": {},
   "cell_type": "markdown",
   "metadata": {},
   "source": [
    "- [Link to grades](https://docs.google.com/spreadsheets/d/1tvIxBwRWXgD2Pu_WW27AJKmSL-0GEBjxcNX1bXLxDZ0/edit?usp=sharing)\n",
    "- Key for MC:"
   ]
  },
  {
   "attachments": {},
   "cell_type": "markdown",
   "metadata": {},
   "source": [
    "|Question|Answer|\n",
    "|---|---|\n",
    "|1|N/A|\n",
    "|2|N/A|\n",
    "|3|C|\n",
    "|4|B|\n",
    "|5|C|\n",
    "|6|A|\n",
    "|7|A|\n",
    "|8|N/A|\n",
    "|9|B|"
   ]
  }
 ],
 "metadata": {
  "language_info": {
   "name": "python"
  },
  "orig_nbformat": 4
 },
 "nbformat": 4,
 "nbformat_minor": 2
}
