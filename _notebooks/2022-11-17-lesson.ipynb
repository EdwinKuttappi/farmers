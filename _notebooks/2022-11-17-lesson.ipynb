{
 "cells": [
  {
   "cell_type": "markdown",
   "metadata": {},
   "source": [
    "# Simulations"
   ]
  },
  {
   "cell_type": "markdown",
   "metadata": {},
   "source": [
    "# What is a simulation?\n",
    "\n",
    "A simulation is a way to simulate real-world environments to test safety or logistics. It's important to use random numbers, consider biases, and consider if a simulation is the best solution. \n",
    "\n",
    "# Why would you make a simulation?\n",
    "\n",
    "A simulation is used to avoid running a experiment or calculation that might be dangerous or costly, by mocking the real-world circumstances digitally.\n",
    "\n",
    "## Is a simulation is the best solution?\n",
    "\n",
    " However, ***using a simulation is not always the best solution***, and you should consider if a simulation is the most cost and time effective solution. Simulations may not be suitable if the circumstances are very complicated or if an experiment would be easier to do. Consider the following, do you think a simulation or experiment/calculation would be the most effective?\n",
    "\n",
    "## Differences between simulations and experiments:\n",
    "\n",
    "- The main difference between simulations and experiments is that simulations replicate real world scenarios digitally while experiments are held in the real world\n",
    "- Simulations usually are less expensive than running an experiment because the expenses needed for acquiring equipment are not present when running a simulation\n",
    "- Since experiments and done in the real world, they provide actual results while simulations use models based on collected data to provide estimations of what is expected to happen\n",
    "- Simulations can provide estimations for events that can't be recreated in the real world because simulations don't run the risk of safety issues and they can be done without equipment that would be needed for experimentation\n",
    "- Once created, simulations are easier to repeat to obtain more estimations when compared to experiments because experiments often take a long time to set up and execute\n",
    "\n",
    "# How do you make a simulation?\n",
    "\n",
    "## What details need to be removed?"
   ]
  },
  {
   "cell_type": "markdown",
   "metadata": {},
   "source": []
  },
  {
   "cell_type": "markdown",
   "metadata": {},
   "source": []
  }
 ],
 "metadata": {
  "kernelspec": {
   "display_name": "Python 3.9.6 64-bit",
   "language": "python",
   "name": "python3"
  },
  "language_info": {
   "name": "python",
   "version": "3.9.6"
  },
  "orig_nbformat": 4,
  "vscode": {
   "interpreter": {
    "hash": "31f2aee4e71d21fbe5cf8b01ff0e069b9275f58929596ceb00d14d90e3e16cd6"
   }
  }
 },
 "nbformat": 4,
 "nbformat_minor": 2
}
