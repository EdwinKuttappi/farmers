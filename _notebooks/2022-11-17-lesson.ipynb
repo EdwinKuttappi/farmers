{
 "cells": [
  {
   "cell_type": "markdown",
   "metadata": {},
   "source": [
    "# Simulations"
   ]
  },
  {
   "cell_type": "markdown",
   "metadata": {},
   "source": [
    "# What is a simulation?\n",
    "\n",
    "A simulation is a way to simulate real-world environments to test safety or logistics. It's important to use random numbers, consider biases, and consider if a simulation is the best solution. \n",
    "\n",
    "# Why would you a simulation?\n",
    "\n",
    "## Is a simulation is the best solution?\n",
    "\n",
    "|Simulation|Experiment |\n",
    "|---|---|\n",
    "\n",
    "# How do you make a simulation?"
   ]
  }
 ],
 "metadata": {
  "language_info": {
   "name": "python"
  },
  "orig_nbformat": 4
 },
 "nbformat": 4,
 "nbformat_minor": 2
}
