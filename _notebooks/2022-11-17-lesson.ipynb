{
 "cells": [
  {
   "cell_type": "markdown",
   "metadata": {},
   "source": [
    "# Simulations"
   ]
  },
  {
   "cell_type": "markdown",
   "metadata": {},
   "source": [
    "# What is a simulation?\n",
    "\n",
    "A simulation is a way to simulate real-world environments to test safety or logistics. It's important to use random numbers, consider biases, and consider if a simulation is the best solution. \n",
    "\n",
    "# Why would you make a simulation?\n",
    "\n",
    "A simulation is used to avoid running a experiment or calculation that might be dangerous or costly, by mocking the real-world circumstances digitally.\n",
    "\n",
    "## Is a simulation is the best solution?\n",
    "\n",
    " However, ***using a simulation is not always the best solution***, and you should consider if a simulation is the most cost and time effective solution. Simulations may not be suitable if the circumstances are very complicated or if an experiment would be easier to do. Consider the following, do you think a simulation or experiment/calculation would be the most effective?\n",
    "\n",
    "\n",
    "\n",
    "# How do you make a simulation?\n",
    "\n",
    "## What details need to be removed?"
   ]
  },
  {
   "cell_type": "markdown",
   "metadata": {},
   "source": []
  },
  {
   "cell_type": "markdown",
   "metadata": {},
   "source": []
  }
 ],
 "metadata": {
  "kernelspec": {
   "display_name": "Python 3.10.6 64-bit",
   "language": "python",
   "name": "python3"
  },
  "language_info": {
   "name": "python",
   "version": "3.10.6"
  },
  "orig_nbformat": 4,
  "vscode": {
   "interpreter": {
    "hash": "b0fa6594d8f4cbf19f97940f81e996739fb7646882a419484c72d19e05852a7e"
   }
  }
 },
 "nbformat": 4,
 "nbformat_minor": 2
}
