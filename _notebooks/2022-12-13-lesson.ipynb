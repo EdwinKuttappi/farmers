{
 "cells": [
  {
   "cell_type": "markdown",
   "metadata": {},
   "source": [
    "# Simulations"
   ]
  },
  {
   "attachments": {},
   "cell_type": "markdown",
   "metadata": {},
   "source": [
    "Slides from today will be uploaded after the lesson"
   ]
  },
  {
   "cell_type": "markdown",
   "metadata": {},
   "source": [
    "# What is a simulation?\n",
    "\n",
    "A simulation is a way to simulate real-world environments to test safety or logistics. It's important to use random numbers, consider biases, and consider if a simulation is the best solution. \n",
    "\n",
    "# Why would you make a simulation?\n",
    "\n",
    "Simulations are useful because they are safe, inexpensive, repeatable, and accurately model how something would be in the real world. Simulations are also useful in predicting how something will happen in future based on previously collected data.\n",
    "\n",
    "## Simulations vs. Experiments\n",
    "\n",
    "- The main difference between simulations and experiments is that simulations replicate real world scenarios digitally while experiments are held in the real world\n",
    "- Simulations usually are less expensive than running an experiment because the expenses needed for acquiring equipment are not present when running a simulation\n",
    "- Since experiments and done in the real world, they provide actual results while simulations use models based on collected data to provide estimations of what is expected to happen\n",
    "- Simulations can provide estimations for events that can't be recreated in the real world because simulations don't run the risk of safety issues and they can be done without equipment that would be needed for experimentation\n",
    "- Once created, simulations are easier to repeat to obtain more estimations when compared to experiments because experiments often take a long \n",
    "time to set up and execute\n",
    "\n",
    "However, ***using a simulation is not always the best solution***, and you should consider if a simulation is the most cost and time effective solution. Simulations may not be suitable if the circumstances are very complicated or if an experiment would be easier to do. \n",
    "\n",
    "# How do you make a simulation?\n",
    "\n",
    "At this time, you don't need to know exactly how to actually make a simulation. However, you do need to know the principals that are important when making one.\n",
    "\n",
    "## What details need to be removed?\n",
    "\n",
    "In the real world, there is mostly no such thing as 'true random.' For example, when rolling dice, things like particles in the air and the velocity of the throw are what really determine what you will roll. However, simulating that would be extremely expensive and unnecessary. What do you think could be used as an alterative to simulating all the factors that decide what you roll? <br><br>\n",
    "A **pseudo-random number generator** could be used to randomly roll the dice. However, random numbers are highly important in a variety of situations as well. *pseudo-random number generators are used to mock the imperfections that are always in the real world* and save resources. \n",
    "<br><br>\n",
    "You also may remove other details to improve functionality of the simulation. Let's go back to the flight simulation example. You could add a weather system, taking into account rain, storms, etc. to your simulation. However, it would be easier to instead just run multiple simulations, with a variety of aircraft speeds and visibility. \n",
    "\n",
    "## Example simulation\n",
    "\n",
    "Skim though the scenario section of [this article](https://towardsdatascience.com/simulating-real-life-events-in-python-with-simpy-619ffcdbf81f) (it is at the top and includes the diagram). What techniques do you notice he uses? You should consider both ideas from this lesson and from the other college board key ideas.<br><br>\n",
    "\n",
    "Some possible answers include:\n",
    "- Procedure and iteration\n",
    "- Flowcharts\n",
    "- Conditionals\n",
    "- Removing details; like accidents or weather\n",
    "- And a lot more!\n",
    "<br><br>\n",
    "\n",
    "\n",
    "## Summary of 'how'\n",
    "***Key idea:*** when making a simulation you should consider:\n",
    "- Removing details, which could be done using pseudo-random number generators\n",
    "- Using other ideas from previous college board lessons; like procedure, flowcharts and conditionals"
   ]
  }
 ],
 "metadata": {
  "kernelspec": {
   "display_name": "Python 3.10.6 64-bit",
   "language": "python",
   "name": "python3"
  },
  "language_info": {
   "name": "python",
   "version": "3.10.6"
  },
  "orig_nbformat": 4,
  "vscode": {
   "interpreter": {
    "hash": "b0fa6594d8f4cbf19f97940f81e996739fb7646882a419484c72d19e05852a7e"
   }
  }
 },
 "nbformat": 4,
 "nbformat_minor": 2
}
