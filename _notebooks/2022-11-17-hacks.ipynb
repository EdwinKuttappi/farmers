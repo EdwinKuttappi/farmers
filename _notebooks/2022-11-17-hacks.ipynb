{
 "cells": [
  {
   "cell_type": "markdown",
   "metadata": {},
   "source": [
    "# Hacks for simulations\n",
    "- comments: true"
   ]
  },
  {
   "cell_type": "markdown",
   "metadata": {},
   "source": [
    "### Experiment/Calculation or Simulation\n",
    "> Categorize the simulations from the word bank into the table, based on if you think a simulation or experiment/calculation should be used\n",
    "\n",
    "#### Word Bank: \n",
    "- A car company needs to know how safe it's customers will be if it's new car crashes\n",
    "- A environmental group wants to know what impact the greenhouse effect has on the environment\n",
    "- A teacher want's to find the average score from a final \n",
    "- "
   ]
  }
 ],
 "metadata": {
  "kernelspec": {
   "display_name": "Python 3.10.6 64-bit",
   "language": "python",
   "name": "python3"
  },
  "language_info": {
   "name": "python",
   "version": "3.10.6"
  },
  "orig_nbformat": 4,
  "vscode": {
   "interpreter": {
    "hash": "b0fa6594d8f4cbf19f97940f81e996739fb7646882a419484c72d19e05852a7e"
   }
  }
 },
 "nbformat": 4,
 "nbformat_minor": 2
}
